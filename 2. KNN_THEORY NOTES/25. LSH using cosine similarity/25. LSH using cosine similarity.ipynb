{
 "cells": [
  {
   "cell_type": "markdown",
   "metadata": {},
   "source": [
    "![Alt text](image-1-1.png) \n",
    "![Alt text](image-2-1.png) \n",
    "![Alt text](image-3-1.png) \n",
    "\n",
    "w is a hyperplane of d dimensions. We represent it using a vector\n",
    "\n",
    "![Alt text](image-4-1.png) \n",
    "![Alt text](image-5-1.png) \n",
    "![Alt text](image-6-1.png) \n",
    "![Alt text](image-7-1.png) \n",
    "![Alt text](image-8-1.png) \n",
    "![Alt text](image-9-1.png) \n",
    "![Alt text](image-10-1.png) \n",
    "\n",
    "O(md) since for every hyperplane Xq has to be transposed with each of its normal vectors(dimensions)\n",
    "\n",
    "![Alt text](image-11-1.png) \n",
    "![Alt text](image-12-1.png) \n",
    "![Alt text](image-13-1.png) \n",
    "![Alt text](image-14-1.png) \n",
    "![Alt text](image-15.png) "
   ]
  }
 ],
 "metadata": {
  "language_info": {
   "name": "python"
  },
  "orig_nbformat": 4
 },
 "nbformat": 4,
 "nbformat_minor": 2
}
