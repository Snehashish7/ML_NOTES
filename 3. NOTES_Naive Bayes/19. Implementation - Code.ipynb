{
 "cells": [
  {
   "cell_type": "markdown",
   "metadata": {},
   "source": [
    "**https://scikit-learn.org/stable/modules/naive_bayes.html**\n",
    "\n",
    "**https://scikit-learn.org/stable/modules/generated/sklearn.naive_bayes.GaussianNB.html**\n",
    "\n",
    "**https://scikit-learn.org/stable/modules/generated/sklearn.naive_bayes.BernoulliNB.html**"
   ]
  }
 ],
 "metadata": {
  "language_info": {
   "name": "python"
  }
 },
 "nbformat": 4,
 "nbformat_minor": 2
}
